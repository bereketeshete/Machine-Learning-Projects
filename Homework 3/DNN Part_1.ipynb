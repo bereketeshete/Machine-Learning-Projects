{
 "cells": [
  {
   "cell_type": "code",
   "execution_count": 17,
   "id": "1cf33dfd",
   "metadata": {},
   "outputs": [],
   "source": [
    "# Author Bereket Kebede, Graduate Student\n",
    "# Machine Learning -  Homework #3 - University of Memphis. Fall 2022\n",
    "# Last updated - Oct 27, 2022\n",
    "# Network (I):  784->150->120->10\n",
    "\n",
    "# I use keras to build DNN for problem of Question (3) - Assignment 3\n",
    "import keras\n",
    "\n",
    "# load MNIST dataset from keras\n",
    "from keras.datasets import mnist\n",
    "\n",
    "# split the MNIST dataset into a training and a test set\n",
    "(x_train, y_train), (x_test, y_test) = mnist.load_data()"
   ]
  },
  {
   "cell_type": "code",
   "execution_count": 18,
   "id": "6f55d51e",
   "metadata": {},
   "outputs": [
    {
     "name": "stdout",
     "output_type": "stream",
     "text": [
      "2\n"
     ]
    },
    {
     "data": {
      "image/png": "[encoded data removed]",
      "text/plain": [
       "<Figure size 432x288 with 1 Axes>"
      ]
     },
     "metadata": {
      "needs_background": "light"
     },
     "output_type": "display_data"
    }
   ],
   "source": [
    "############################################################################\n",
    "\n",
    "## Display sample images\n",
    "import matplotlib.pyplot as plt\n",
    "\n",
    "plt.imshow(x_train[5], cmap=plt.cm.binary)\n",
    "\n",
    "# View the labels\n",
    "print(y_train[5])"
   ]
  },
  {
   "cell_type": "code",
   "execution_count": 19,
   "id": "9a04ff7d",
   "metadata": {},
   "outputs": [
    {
     "name": "stdout",
     "output_type": "stream",
     "text": [
      "3\n",
      "(60000, 28, 28)\n",
      "uint8\n"
     ]
    }
   ],
   "source": [
    "############################################################################\n",
    "\n",
    "## Representing data in keras\n",
    "\n",
    "# print number of dimensions of tensor\n",
    "print(x_train.ndim)\n",
    "\n",
    "# print dimension of tensor\n",
    "print(x_train.shape)\n",
    "\n",
    "# print data type of tensor\n",
    "print(x_train.dtype)"
   ]
  },
  {
   "cell_type": "code",
   "execution_count": 20,
   "id": "7a391f92",
   "metadata": {},
   "outputs": [
    {
     "name": "stdout",
     "output_type": "stream",
     "text": [
      "(60000, 784)\n",
      "(10000, 784)\n",
      "7\n",
      "5\n",
      "(60000,)\n",
      "(10000, 784)\n",
      "[0. 0. 0. 0. 0. 0. 0. 1. 0. 0.]\n",
      "[0. 0. 0. 0. 0. 1. 0. 0. 0. 0.]\n",
      "(60000, 10)\n",
      "(10000, 10)\n"
     ]
    }
   ],
   "source": [
    "#############################################################################\n",
    "\n",
    "## Normalization of data in Keras\n",
    "# Scale the input values to float32 type\n",
    "\n",
    "x_train = x_train.astype('float32')\n",
    "x_test = x_test.astype('float32')\n",
    "\n",
    "\n",
    "# Normalize the input values within the interval [0, 1]\n",
    "x_train /= 255\n",
    "x_test /= 255\n",
    "\n",
    "\n",
    "# Reshape the input values\n",
    "x_train = x_train.reshape(60000, 784)\n",
    "x_test = x_test.reshape(10000, 784)\n",
    "\n",
    "print(x_train.shape)\n",
    "print(x_test.shape)\n",
    "\n",
    "\n",
    "from tensorflow.keras.utils import to_categorical\n",
    "\n",
    "print(y_test[0])\n",
    "print(y_train[0])\n",
    "\n",
    "print(y_train.shape)\n",
    "print(x_test.shape)\n",
    "\n",
    "y_train = to_categorical(y_train, num_classes=10)\n",
    "y_test = to_categorical(y_test, num_classes=10)\n",
    "\n",
    "print(y_test[0])\n",
    "print(y_train[0])\n",
    "\n",
    "print(y_train.shape)\n",
    "print(y_test.shape)"
   ]
  },
  {
   "cell_type": "code",
   "execution_count": 21,
   "id": "ae3e071e",
   "metadata": {},
   "outputs": [],
   "source": [
    "##############################################################################\n",
    "\n",
    "## Make the model\n",
    "\n",
    "from keras.models import Sequential\n",
    "from keras.layers.core import Dense, Activation\n",
    "\n",
    "model = Sequential()\n",
    "model.add(Dense(150, input_shape=(784,)))  \n",
    "model.add(Activation('sigmoid'))\n",
    "model.add(Dense(120))               \n",
    "model.add(Activation('sigmoid'))\n",
    "model.add(Dense(10, activation='softmax'))"
   ]
  },
  {
   "cell_type": "code",
   "execution_count": 22,
   "id": "b2edc09f",
   "metadata": {},
   "outputs": [
    {
     "name": "stdout",
     "output_type": "stream",
     "text": [
      "Model: \"sequential_2\"\n",
      "_________________________________________________________________\n",
      "Layer (type)                 Output Shape              Param #   \n",
      "=================================================================\n",
      "dense_8 (Dense)              (None, 150)               117750    \n",
      "_________________________________________________________________\n",
      "activation_6 (Activation)    (None, 150)               0         \n",
      "_________________________________________________________________\n",
      "dense_9 (Dense)              (None, 120)               18120     \n",
      "_________________________________________________________________\n",
      "activation_7 (Activation)    (None, 120)               0         \n",
      "_________________________________________________________________\n",
      "dense_10 (Dense)             (None, 10)                1210      \n",
      "=================================================================\n",
      "Total params: 137,080\n",
      "Trainable params: 137,080\n",
      "Non-trainable params: 0\n",
      "_________________________________________________________________\n"
     ]
    }
   ],
   "source": [
    "##############################################################################\n",
    "\n",
    "## Model summary\n",
    "model.summary()"
   ]
  },
  {
   "cell_type": "code",
   "execution_count": 23,
   "id": "1db9427a",
   "metadata": {},
   "outputs": [
    {
     "name": "stdout",
     "output_type": "stream",
     "text": [
      "Epoch 1/50\n",
      "938/938 [==============================] - 3s 2ms/step - loss: 2.2548 - accuracy: 0.2627\n",
      "Epoch 2/50\n",
      "938/938 [==============================] - 2s 2ms/step - loss: 2.1061 - accuracy: 0.5239\n",
      "Epoch 3/50\n",
      "938/938 [==============================] - 2s 2ms/step - loss: 1.8157 - accuracy: 0.6459: 0s - loss: 1.8167 - accuracy: 0.64\n",
      "Epoch 4/50\n",
      "938/938 [==============================] - 2s 2ms/step - loss: 1.4137 - accuracy: 0.7033\n",
      "Epoch 5/50\n",
      "938/938 [==============================] - 2s 2ms/step - loss: 1.1003 - accuracy: 0.7471\n",
      "Epoch 6/50\n",
      "938/938 [==============================] - 2s 2ms/step - loss: 0.9083 - accuracy: 0.7803\n",
      "Epoch 7/50\n",
      "938/938 [==============================] - 2s 2ms/step - loss: 0.7821 - accuracy: 0.8054\n",
      "Epoch 8/50\n",
      "938/938 [==============================] - 2s 2ms/step - loss: 0.6908 - accuracy: 0.8254\n",
      "Epoch 9/50\n",
      "938/938 [==============================] - 2s 2ms/step - loss: 0.6220 - accuracy: 0.8403\n",
      "Epoch 10/50\n",
      "938/938 [==============================] - 2s 2ms/step - loss: 0.5694 - accuracy: 0.8513\n",
      "Epoch 11/50\n",
      "938/938 [==============================] - 2s 2ms/step - loss: 0.5283 - accuracy: 0.8603\n",
      "Epoch 12/50\n",
      "938/938 [==============================] - 2s 2ms/step - loss: 0.4955 - accuracy: 0.8674\n",
      "Epoch 13/50\n",
      "938/938 [==============================] - 2s 2ms/step - loss: 0.4690 - accuracy: 0.8733\n",
      "Epoch 14/50\n",
      "938/938 [==============================] - 2s 2ms/step - loss: 0.4471 - accuracy: 0.8788\n",
      "Epoch 15/50\n",
      "938/938 [==============================] - 2s 2ms/step - loss: 0.4289 - accuracy: 0.8828\n",
      "Epoch 16/50\n",
      "938/938 [==============================] - 2s 2ms/step - loss: 0.4136 - accuracy: 0.8864\n",
      "Epoch 17/50\n",
      "938/938 [==============================] - 2s 2ms/step - loss: 0.4005 - accuracy: 0.8896\n",
      "Epoch 18/50\n",
      "938/938 [==============================] - 2s 2ms/step - loss: 0.3891 - accuracy: 0.8923\n",
      "Epoch 19/50\n",
      "938/938 [==============================] - 2s 2ms/step - loss: 0.3794 - accuracy: 0.8935\n",
      "Epoch 20/50\n",
      "938/938 [==============================] - 2s 2ms/step - loss: 0.3706 - accuracy: 0.8956\n",
      "Epoch 21/50\n",
      "938/938 [==============================] - 2s 2ms/step - loss: 0.3630 - accuracy: 0.8972\n",
      "Epoch 22/50\n",
      "938/938 [==============================] - 2s 2ms/step - loss: 0.3560 - accuracy: 0.8989\n",
      "Epoch 23/50\n",
      "938/938 [==============================] - 2s 3ms/step - loss: 0.3497 - accuracy: 0.9000\n",
      "Epoch 24/50\n",
      "938/938 [==============================] - 3s 3ms/step - loss: 0.3439 - accuracy: 0.9022\n",
      "Epoch 25/50\n",
      "938/938 [==============================] - 2s 2ms/step - loss: 0.3386 - accuracy: 0.9032\n",
      "Epoch 26/50\n",
      "938/938 [==============================] - 2s 2ms/step - loss: 0.3338 - accuracy: 0.9045\n",
      "Epoch 27/50\n",
      "938/938 [==============================] - 2s 2ms/step - loss: 0.3292 - accuracy: 0.9059\n",
      "Epoch 28/50\n",
      "938/938 [==============================] - 2s 2ms/step - loss: 0.3248 - accuracy: 0.9069\n",
      "Epoch 29/50\n",
      "938/938 [==============================] - 2s 3ms/step - loss: 0.3209 - accuracy: 0.9075: 0s -\n",
      "Epoch 30/50\n",
      "938/938 [==============================] - 2s 2ms/step - loss: 0.3169 - accuracy: 0.9086\n",
      "Epoch 31/50\n",
      "938/938 [==============================] - 2s 2ms/step - loss: 0.3134 - accuracy: 0.9100\n",
      "Epoch 32/50\n",
      "938/938 [==============================] - 2s 2ms/step - loss: 0.3099 - accuracy: 0.9108\n",
      "Epoch 33/50\n",
      "938/938 [==============================] - 2s 2ms/step - loss: 0.3064 - accuracy: 0.9118\n",
      "Epoch 34/50\n",
      "938/938 [==============================] - 2s 2ms/step - loss: 0.3034 - accuracy: 0.9128\n",
      "Epoch 35/50\n",
      "938/938 [==============================] - 2s 2ms/step - loss: 0.3004 - accuracy: 0.9136\n",
      "Epoch 36/50\n",
      "938/938 [==============================] - 2s 2ms/step - loss: 0.2973 - accuracy: 0.9143\n",
      "Epoch 37/50\n",
      "938/938 [==============================] - 2s 2ms/step - loss: 0.2945 - accuracy: 0.9152\n",
      "Epoch 38/50\n",
      "938/938 [==============================] - 2s 2ms/step - loss: 0.2917 - accuracy: 0.9156\n",
      "Epoch 39/50\n",
      "938/938 [==============================] - 2s 2ms/step - loss: 0.2890 - accuracy: 0.9165\n",
      "Epoch 40/50\n",
      "938/938 [==============================] - 2s 2ms/step - loss: 0.2864 - accuracy: 0.9177: \n",
      "Epoch 41/50\n",
      "938/938 [==============================] - 2s 2ms/step - loss: 0.2839 - accuracy: 0.9180\n",
      "Epoch 42/50\n",
      "938/938 [==============================] - 2s 2ms/step - loss: 0.2814 - accuracy: 0.9187\n",
      "Epoch 43/50\n",
      "938/938 [==============================] - 2s 2ms/step - loss: 0.2790 - accuracy: 0.9189: 0s - loss: 0.278\n",
      "Epoch 44/50\n",
      "938/938 [==============================] - 2s 2ms/step - loss: 0.2766 - accuracy: 0.9195\n",
      "Epoch 45/50\n",
      "938/938 [==============================] - 2s 2ms/step - loss: 0.2743 - accuracy: 0.9201\n",
      "Epoch 46/50\n",
      "938/938 [==============================] - 2s 2ms/step - loss: 0.2722 - accuracy: 0.9207\n",
      "Epoch 47/50\n",
      "938/938 [==============================] - 2s 2ms/step - loss: 0.2698 - accuracy: 0.9213\n",
      "Epoch 48/50\n",
      "938/938 [==============================] - 2s 2ms/step - loss: 0.2677 - accuracy: 0.9217\n",
      "Epoch 49/50\n",
      "938/938 [==============================] - 1s 1ms/step - loss: 0.2655 - accuracy: 0.9227\n",
      "Epoch 50/50\n",
      "938/938 [==============================] - 1s 1ms/step - loss: 0.2635 - accuracy: 0.9232\n",
      "313/313 [==============================] - 0s 724us/step - loss: 0.2584 - accuracy: 0.9271\n"
     ]
    }
   ],
   "source": [
    "##############################################################################\n",
    "\n",
    "## Implementation of Deep Neural Network in Keras\n",
    "\n",
    "# Compiling the model \n",
    "model.compile(loss=\"categorical_crossentropy\",\n",
    "optimizer=\"sgd\", metrics = ['accuracy'])\n",
    "\n",
    "# Training the model \n",
    "model.fit(x_train, y_train, batch_size=64, epochs=50)\n",
    "\n",
    "# Evaluate the model \n",
    "test_loss, test_acc = model.evaluate(x_test, y_test)\n"
   ]
  },
  {
   "cell_type": "code",
   "execution_count": 24,
   "id": "3bb40c92",
   "metadata": {},
   "outputs": [
    {
     "name": "stdout",
     "output_type": "stream",
     "text": [
      "Test accuracy: 0.9271\n"
     ]
    }
   ],
   "source": [
    "###############################################################################\n",
    "\n",
    "## Printing Accuracy of our model\n",
    "print('Test accuracy:', round(test_acc,4))"
   ]
  },
  {
   "cell_type": "code",
   "execution_count": null,
   "id": "d92c013d",
   "metadata": {},
   "outputs": [],
   "source": []
  }
 ],
 "metadata": {
  "kernelspec": {
   "display_name": "Python 3 (ipykernel)",
   "language": "python",
   "name": "python3"
  },
  "language_info": {
   "codemirror_mode": {
    "name": "ipython",
    "version": 3
   },
   "file_extension": ".py",
   "mimetype": "text/x-python",
   "name": "python",
   "nbconvert_exporter": "python",
   "pygments_lexer": "ipython3",
   "version": "3.10.7"
  }
 },
 "nbformat": 4,
 "nbformat_minor": 5
}
